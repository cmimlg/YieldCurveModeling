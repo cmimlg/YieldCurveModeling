{
  "cells": [
    {
      "cell_type": "code",
      "source": [
        "from google.colab import drive\n",
        "drive.mount('/content/drive')"
      ],
      "metadata": {
        "id": "RkTsqSaO9KOF",
        "colab": {
          "base_uri": "https://localhost:8080/"
        },
        "outputId": "27ad9a6f-b09c-40cf-f00b-8aeb3a5802e4"
      },
      "execution_count": 1,
      "outputs": [
        {
          "output_type": "stream",
          "name": "stdout",
          "text": [
            "Mounted at /content/drive\n"
          ]
        }
      ]
    },
    {
      "cell_type": "markdown",
      "metadata": {
        "id": "ru-visMv712l"
      },
      "source": [
        "Bibliotecas"
      ]
    },
    {
      "cell_type": "code",
      "source": [
        "!pip install GPy"
      ],
      "metadata": {
        "colab": {
          "base_uri": "https://localhost:8080/"
        },
        "id": "zGFOQfIf1pzc",
        "outputId": "046d27e8-4e3d-4588-d180-84e70f95ec4e"
      },
      "execution_count": 3,
      "outputs": [
        {
          "output_type": "stream",
          "name": "stdout",
          "text": [
            "Looking in indexes: https://pypi.org/simple, https://us-python.pkg.dev/colab-wheels/public/simple/\n",
            "Collecting GPy\n",
            "  Downloading GPy-1.10.0.tar.gz (959 kB)\n",
            "\u001b[K     |████████████████████████████████| 959 kB 5.4 MB/s \n",
            "\u001b[?25hRequirement already satisfied: numpy>=1.7 in /usr/local/lib/python3.7/dist-packages (from GPy) (1.21.6)\n",
            "Requirement already satisfied: six in /usr/local/lib/python3.7/dist-packages (from GPy) (1.15.0)\n",
            "Collecting paramz>=0.9.0\n",
            "  Downloading paramz-0.9.5.tar.gz (71 kB)\n",
            "\u001b[K     |████████████████████████████████| 71 kB 6.2 MB/s \n",
            "\u001b[?25hRequirement already satisfied: cython>=0.29 in /usr/local/lib/python3.7/dist-packages (from GPy) (0.29.30)\n",
            "Requirement already satisfied: scipy>=1.3.0 in /usr/local/lib/python3.7/dist-packages (from GPy) (1.4.1)\n",
            "Requirement already satisfied: decorator>=4.0.10 in /usr/local/lib/python3.7/dist-packages (from paramz>=0.9.0->GPy) (4.4.2)\n",
            "Building wheels for collected packages: GPy, paramz\n",
            "  Building wheel for GPy (setup.py) ... \u001b[?25l\u001b[?25hdone\n",
            "  Created wheel for GPy: filename=GPy-1.10.0-cp37-cp37m-linux_x86_64.whl size=2565156 sha256=06d7efb9220a87558a0fec43cca2f71f87057310b27c47ce2010823c794f262c\n",
            "  Stored in directory: /root/.cache/pip/wheels/f7/18/28/dd1ce0192a81b71a3b086fd952511d088b21e8359ea496860a\n",
            "  Building wheel for paramz (setup.py) ... \u001b[?25l\u001b[?25hdone\n",
            "  Created wheel for paramz: filename=paramz-0.9.5-py3-none-any.whl size=102566 sha256=482fa45660adc4b451fdded288e32eb6947ed64392eb608102bbe3ade7e2e02e\n",
            "  Stored in directory: /root/.cache/pip/wheels/c8/95/f5/ce28482da28162e6028c4b3a32c41d147395825b3cd62bc810\n",
            "Successfully built GPy paramz\n",
            "Installing collected packages: paramz, GPy\n",
            "Successfully installed GPy-1.10.0 paramz-0.9.5\n"
          ]
        }
      ]
    },
    {
      "cell_type": "code",
      "source": [
        "!pip install memory_profiler"
      ],
      "metadata": {
        "colab": {
          "base_uri": "https://localhost:8080/"
        },
        "id": "E6LyszbV2CZm",
        "outputId": "db1b3c7e-3135-489c-9d0b-217e1909a5e1"
      },
      "execution_count": 4,
      "outputs": [
        {
          "output_type": "stream",
          "name": "stdout",
          "text": [
            "Looking in indexes: https://pypi.org/simple, https://us-python.pkg.dev/colab-wheels/public/simple/\n",
            "Collecting memory_profiler\n",
            "  Downloading memory_profiler-0.60.0.tar.gz (38 kB)\n",
            "Requirement already satisfied: psutil in /usr/local/lib/python3.7/dist-packages (from memory_profiler) (5.4.8)\n",
            "Building wheels for collected packages: memory-profiler\n",
            "  Building wheel for memory-profiler (setup.py) ... \u001b[?25l\u001b[?25hdone\n",
            "  Created wheel for memory-profiler: filename=memory_profiler-0.60.0-py3-none-any.whl size=31284 sha256=974369872790e62ca44e99a878bd07f1701a3dcc03cad4e715af6b30843b4442\n",
            "  Stored in directory: /root/.cache/pip/wheels/67/2b/fb/326e30d638c538e69a5eb0aa47f4223d979f502bbdb403950f\n",
            "Successfully built memory-profiler\n",
            "Installing collected packages: memory-profiler\n",
            "Successfully installed memory-profiler-0.60.0\n"
          ]
        }
      ]
    },
    {
      "cell_type": "code",
      "execution_count": 2,
      "metadata": {
        "id": "xRaFVt5n712s",
        "outputId": "5b5c1e3c-60f2-4cc6-959f-bc45c0d7aa96",
        "colab": {
          "base_uri": "https://localhost:8080/",
          "height": 374
        }
      },
      "outputs": [
        {
          "output_type": "error",
          "ename": "ModuleNotFoundError",
          "evalue": "ignored",
          "traceback": [
            "\u001b[0;31m---------------------------------------------------------------------------\u001b[0m",
            "\u001b[0;31mModuleNotFoundError\u001b[0m                       Traceback (most recent call last)",
            "\u001b[0;32m<ipython-input-2-4778c16a6468>\u001b[0m in \u001b[0;36m<module>\u001b[0;34m()\u001b[0m\n\u001b[1;32m      6\u001b[0m \u001b[0;32mimport\u001b[0m \u001b[0msys\u001b[0m\u001b[0;34m\u001b[0m\u001b[0;34m\u001b[0m\u001b[0m\n\u001b[1;32m      7\u001b[0m \u001b[0;32mimport\u001b[0m \u001b[0mtraceback\u001b[0m\u001b[0;34m\u001b[0m\u001b[0;34m\u001b[0m\u001b[0m\n\u001b[0;32m----> 8\u001b[0;31m \u001b[0;32mimport\u001b[0m \u001b[0mGPy\u001b[0m\u001b[0;34m\u001b[0m\u001b[0;34m\u001b[0m\u001b[0m\n\u001b[0m\u001b[1;32m      9\u001b[0m \u001b[0;32mfrom\u001b[0m \u001b[0mGPy\u001b[0m\u001b[0;34m.\u001b[0m\u001b[0mkern\u001b[0m \u001b[0;32mimport\u001b[0m \u001b[0;34m*\u001b[0m\u001b[0;34m\u001b[0m\u001b[0;34m\u001b[0m\u001b[0m\n\u001b[1;32m     10\u001b[0m \u001b[0;32mimport\u001b[0m \u001b[0mrandom\u001b[0m\u001b[0;34m\u001b[0m\u001b[0;34m\u001b[0m\u001b[0m\n",
            "\u001b[0;31mModuleNotFoundError\u001b[0m: No module named 'GPy'",
            "",
            "\u001b[0;31m---------------------------------------------------------------------------\u001b[0;32m\nNOTE: If your import is failing due to a missing package, you can\nmanually install dependencies using either !pip or !apt.\n\nTo view examples of installing some common dependencies, click the\n\"Open Examples\" button below.\n\u001b[0;31m---------------------------------------------------------------------------\u001b[0m\n"
          ],
          "errorDetails": {
            "actions": [
              {
                "action": "open_url",
                "actionText": "Open Examples",
                "url": "/notebooks/snippets/importing_libraries.ipynb"
              }
            ]
          }
        }
      ],
      "source": [
        "import pandas as pd\n",
        "import matplotlib.pyplot as plt\n",
        "import numpy as np\n",
        "import math\n",
        "from math import ceil, floor, exp, sqrt, log\n",
        "import sys\n",
        "import traceback\n",
        "import GPy\n",
        "from GPy.kern import *\n",
        "import random\n",
        "import sys\n",
        "import time\n",
        "import os\n",
        "import matplotlib.pyplot as plt\n",
        "import logging\n",
        "import csv\n",
        "from memory_profiler import memory_usage\n",
        "\n",
        "from datetime import date\n",
        "from GPy.core import Mapping"
      ]
    },
    {
      "cell_type": "code",
      "source": [
        "import ipdb"
      ],
      "metadata": {
        "id": "84ts-xwCLana"
      },
      "execution_count": null,
      "outputs": []
    },
    {
      "cell_type": "code",
      "execution_count": null,
      "metadata": {
        "id": "nscn9tHE712w"
      },
      "outputs": [],
      "source": [
        "# create logger for the application\n",
        "logger = logging.getLogger('DGPM Logger')\n",
        "\n",
        "ch = logging.StreamHandler()\n",
        "\n",
        "# create formatter and add it to the handlers\n",
        "formatter = logging.Formatter(\n",
        "    '%(asctime)s - %(name)s - %(levelname)s - %(message)s')\n",
        "ch.setFormatter(formatter)\n",
        "\n",
        "\n",
        "logger.addHandler(ch)\n",
        "logger.setLevel(logging.DEBUG)"
      ]
    },
    {
      "cell_type": "markdown",
      "metadata": {
        "id": "RWvHQAnw712z"
      },
      "source": [
        "Função para leitura dos dados"
      ]
    },
    {
      "cell_type": "code",
      "execution_count": null,
      "metadata": {
        "id": "KkcE2GnN7121"
      },
      "outputs": [],
      "source": [
        "def read_data():\n",
        "    os.chdir('/content/drive/MyDrive/DGP_YCF_py/data')\n",
        "    fp = 'Src_2_2006_to_Present_Treasury_Data.csv'\n",
        "    df = pd.read_csv(fp)\n",
        "    ref_date = date(2012, 12, 31)\n",
        "    df[\"Date\"] = pd.to_datetime(df[\"Date\"])\n",
        "    return df"
      ]
    },
    {
      "cell_type": "code",
      "source": [
        "read_data()"
      ],
      "metadata": {
        "colab": {
          "base_uri": "https://localhost:8080/",
          "height": 424
        },
        "id": "O2NJ1TGHeTTA",
        "outputId": "c8819743-a840-4f8d-c400-a57dd04f1661"
      },
      "execution_count": null,
      "outputs": [
        {
          "output_type": "execute_result",
          "data": {
            "text/plain": [
              "           Date  Mo_1  Mo_3  Mo_6  Yr_1  Yr_2  Yr_3  Yr_5  Yr_7  Yr_10  Yr_20  \\\n",
              "0    2006-02-09  4.32  4.52  4.67  4.66  4.66  4.62  4.55  4.55   4.54   4.72   \n",
              "1    2006-02-10  4.36  4.53  4.70  4.70  4.69  4.67  4.59  4.59   4.59   4.76   \n",
              "2    2006-02-13  4.38  4.55  4.71  4.70  4.68  4.66  4.58  4.58   4.58   4.76   \n",
              "3    2006-02-14  4.42  4.55  4.72  4.71  4.69  4.68  4.61  4.61   4.62   4.80   \n",
              "4    2006-02-15  4.39  4.55  4.70  4.70  4.71  4.68  4.60  4.60   4.61   4.78   \n",
              "...         ...   ...   ...   ...   ...   ...   ...   ...   ...    ...    ...   \n",
              "2753 2017-02-13  0.50  0.52  0.63  0.82  1.20  1.48  1.92  2.24   2.43   2.77   \n",
              "2754 2017-02-14  0.51  0.54  0.66  0.84  1.25  1.53  1.98  2.29   2.47   2.81   \n",
              "2755 2017-02-15  0.53  0.54  0.67  0.86  1.27  1.57  2.01  2.33   2.51   2.84   \n",
              "2756 2017-02-16  0.51  0.53  0.66  0.82  1.22  1.50  1.95  2.26   2.45   2.80   \n",
              "2757 2017-02-17  0.50  0.53  0.66  0.82  1.21  1.48  1.92  2.23   2.42   2.78   \n",
              "\n",
              "      Yr_30  \n",
              "0      4.51  \n",
              "1      4.55  \n",
              "2      4.56  \n",
              "3      4.60  \n",
              "4      4.58  \n",
              "...     ...  \n",
              "2753   3.03  \n",
              "2754   3.07  \n",
              "2755   3.09  \n",
              "2756   3.05  \n",
              "2757   3.03  \n",
              "\n",
              "[2758 rows x 12 columns]"
            ],
            "text/html": [
              "\n",
              "  <div id=\"df-107fb2ab-5f56-4070-8985-c989de9e7ca7\">\n",
              "    <div class=\"colab-df-container\">\n",
              "      <div>\n",
              "<style scoped>\n",
              "    .dataframe tbody tr th:only-of-type {\n",
              "        vertical-align: middle;\n",
              "    }\n",
              "\n",
              "    .dataframe tbody tr th {\n",
              "        vertical-align: top;\n",
              "    }\n",
              "\n",
              "    .dataframe thead th {\n",
              "        text-align: right;\n",
              "    }\n",
              "</style>\n",
              "<table border=\"1\" class=\"dataframe\">\n",
              "  <thead>\n",
              "    <tr style=\"text-align: right;\">\n",
              "      <th></th>\n",
              "      <th>Date</th>\n",
              "      <th>Mo_1</th>\n",
              "      <th>Mo_3</th>\n",
              "      <th>Mo_6</th>\n",
              "      <th>Yr_1</th>\n",
              "      <th>Yr_2</th>\n",
              "      <th>Yr_3</th>\n",
              "      <th>Yr_5</th>\n",
              "      <th>Yr_7</th>\n",
              "      <th>Yr_10</th>\n",
              "      <th>Yr_20</th>\n",
              "      <th>Yr_30</th>\n",
              "    </tr>\n",
              "  </thead>\n",
              "  <tbody>\n",
              "    <tr>\n",
              "      <th>0</th>\n",
              "      <td>2006-02-09</td>\n",
              "      <td>4.32</td>\n",
              "      <td>4.52</td>\n",
              "      <td>4.67</td>\n",
              "      <td>4.66</td>\n",
              "      <td>4.66</td>\n",
              "      <td>4.62</td>\n",
              "      <td>4.55</td>\n",
              "      <td>4.55</td>\n",
              "      <td>4.54</td>\n",
              "      <td>4.72</td>\n",
              "      <td>4.51</td>\n",
              "    </tr>\n",
              "    <tr>\n",
              "      <th>1</th>\n",
              "      <td>2006-02-10</td>\n",
              "      <td>4.36</td>\n",
              "      <td>4.53</td>\n",
              "      <td>4.70</td>\n",
              "      <td>4.70</td>\n",
              "      <td>4.69</td>\n",
              "      <td>4.67</td>\n",
              "      <td>4.59</td>\n",
              "      <td>4.59</td>\n",
              "      <td>4.59</td>\n",
              "      <td>4.76</td>\n",
              "      <td>4.55</td>\n",
              "    </tr>\n",
              "    <tr>\n",
              "      <th>2</th>\n",
              "      <td>2006-02-13</td>\n",
              "      <td>4.38</td>\n",
              "      <td>4.55</td>\n",
              "      <td>4.71</td>\n",
              "      <td>4.70</td>\n",
              "      <td>4.68</td>\n",
              "      <td>4.66</td>\n",
              "      <td>4.58</td>\n",
              "      <td>4.58</td>\n",
              "      <td>4.58</td>\n",
              "      <td>4.76</td>\n",
              "      <td>4.56</td>\n",
              "    </tr>\n",
              "    <tr>\n",
              "      <th>3</th>\n",
              "      <td>2006-02-14</td>\n",
              "      <td>4.42</td>\n",
              "      <td>4.55</td>\n",
              "      <td>4.72</td>\n",
              "      <td>4.71</td>\n",
              "      <td>4.69</td>\n",
              "      <td>4.68</td>\n",
              "      <td>4.61</td>\n",
              "      <td>4.61</td>\n",
              "      <td>4.62</td>\n",
              "      <td>4.80</td>\n",
              "      <td>4.60</td>\n",
              "    </tr>\n",
              "    <tr>\n",
              "      <th>4</th>\n",
              "      <td>2006-02-15</td>\n",
              "      <td>4.39</td>\n",
              "      <td>4.55</td>\n",
              "      <td>4.70</td>\n",
              "      <td>4.70</td>\n",
              "      <td>4.71</td>\n",
              "      <td>4.68</td>\n",
              "      <td>4.60</td>\n",
              "      <td>4.60</td>\n",
              "      <td>4.61</td>\n",
              "      <td>4.78</td>\n",
              "      <td>4.58</td>\n",
              "    </tr>\n",
              "    <tr>\n",
              "      <th>...</th>\n",
              "      <td>...</td>\n",
              "      <td>...</td>\n",
              "      <td>...</td>\n",
              "      <td>...</td>\n",
              "      <td>...</td>\n",
              "      <td>...</td>\n",
              "      <td>...</td>\n",
              "      <td>...</td>\n",
              "      <td>...</td>\n",
              "      <td>...</td>\n",
              "      <td>...</td>\n",
              "      <td>...</td>\n",
              "    </tr>\n",
              "    <tr>\n",
              "      <th>2753</th>\n",
              "      <td>2017-02-13</td>\n",
              "      <td>0.50</td>\n",
              "      <td>0.52</td>\n",
              "      <td>0.63</td>\n",
              "      <td>0.82</td>\n",
              "      <td>1.20</td>\n",
              "      <td>1.48</td>\n",
              "      <td>1.92</td>\n",
              "      <td>2.24</td>\n",
              "      <td>2.43</td>\n",
              "      <td>2.77</td>\n",
              "      <td>3.03</td>\n",
              "    </tr>\n",
              "    <tr>\n",
              "      <th>2754</th>\n",
              "      <td>2017-02-14</td>\n",
              "      <td>0.51</td>\n",
              "      <td>0.54</td>\n",
              "      <td>0.66</td>\n",
              "      <td>0.84</td>\n",
              "      <td>1.25</td>\n",
              "      <td>1.53</td>\n",
              "      <td>1.98</td>\n",
              "      <td>2.29</td>\n",
              "      <td>2.47</td>\n",
              "      <td>2.81</td>\n",
              "      <td>3.07</td>\n",
              "    </tr>\n",
              "    <tr>\n",
              "      <th>2755</th>\n",
              "      <td>2017-02-15</td>\n",
              "      <td>0.53</td>\n",
              "      <td>0.54</td>\n",
              "      <td>0.67</td>\n",
              "      <td>0.86</td>\n",
              "      <td>1.27</td>\n",
              "      <td>1.57</td>\n",
              "      <td>2.01</td>\n",
              "      <td>2.33</td>\n",
              "      <td>2.51</td>\n",
              "      <td>2.84</td>\n",
              "      <td>3.09</td>\n",
              "    </tr>\n",
              "    <tr>\n",
              "      <th>2756</th>\n",
              "      <td>2017-02-16</td>\n",
              "      <td>0.51</td>\n",
              "      <td>0.53</td>\n",
              "      <td>0.66</td>\n",
              "      <td>0.82</td>\n",
              "      <td>1.22</td>\n",
              "      <td>1.50</td>\n",
              "      <td>1.95</td>\n",
              "      <td>2.26</td>\n",
              "      <td>2.45</td>\n",
              "      <td>2.80</td>\n",
              "      <td>3.05</td>\n",
              "    </tr>\n",
              "    <tr>\n",
              "      <th>2757</th>\n",
              "      <td>2017-02-17</td>\n",
              "      <td>0.50</td>\n",
              "      <td>0.53</td>\n",
              "      <td>0.66</td>\n",
              "      <td>0.82</td>\n",
              "      <td>1.21</td>\n",
              "      <td>1.48</td>\n",
              "      <td>1.92</td>\n",
              "      <td>2.23</td>\n",
              "      <td>2.42</td>\n",
              "      <td>2.78</td>\n",
              "      <td>3.03</td>\n",
              "    </tr>\n",
              "  </tbody>\n",
              "</table>\n",
              "<p>2758 rows × 12 columns</p>\n",
              "</div>\n",
              "      <button class=\"colab-df-convert\" onclick=\"convertToInteractive('df-107fb2ab-5f56-4070-8985-c989de9e7ca7')\"\n",
              "              title=\"Convert this dataframe to an interactive table.\"\n",
              "              style=\"display:none;\">\n",
              "        \n",
              "  <svg xmlns=\"http://www.w3.org/2000/svg\" height=\"24px\"viewBox=\"0 0 24 24\"\n",
              "       width=\"24px\">\n",
              "    <path d=\"M0 0h24v24H0V0z\" fill=\"none\"/>\n",
              "    <path d=\"M18.56 5.44l.94 2.06.94-2.06 2.06-.94-2.06-.94-.94-2.06-.94 2.06-2.06.94zm-11 1L8.5 8.5l.94-2.06 2.06-.94-2.06-.94L8.5 2.5l-.94 2.06-2.06.94zm10 10l.94 2.06.94-2.06 2.06-.94-2.06-.94-.94-2.06-.94 2.06-2.06.94z\"/><path d=\"M17.41 7.96l-1.37-1.37c-.4-.4-.92-.59-1.43-.59-.52 0-1.04.2-1.43.59L10.3 9.45l-7.72 7.72c-.78.78-.78 2.05 0 2.83L4 21.41c.39.39.9.59 1.41.59.51 0 1.02-.2 1.41-.59l7.78-7.78 2.81-2.81c.8-.78.8-2.07 0-2.86zM5.41 20L4 18.59l7.72-7.72 1.47 1.35L5.41 20z\"/>\n",
              "  </svg>\n",
              "      </button>\n",
              "      \n",
              "  <style>\n",
              "    .colab-df-container {\n",
              "      display:flex;\n",
              "      flex-wrap:wrap;\n",
              "      gap: 12px;\n",
              "    }\n",
              "\n",
              "    .colab-df-convert {\n",
              "      background-color: #E8F0FE;\n",
              "      border: none;\n",
              "      border-radius: 50%;\n",
              "      cursor: pointer;\n",
              "      display: none;\n",
              "      fill: #1967D2;\n",
              "      height: 32px;\n",
              "      padding: 0 0 0 0;\n",
              "      width: 32px;\n",
              "    }\n",
              "\n",
              "    .colab-df-convert:hover {\n",
              "      background-color: #E2EBFA;\n",
              "      box-shadow: 0px 1px 2px rgba(60, 64, 67, 0.3), 0px 1px 3px 1px rgba(60, 64, 67, 0.15);\n",
              "      fill: #174EA6;\n",
              "    }\n",
              "\n",
              "    [theme=dark] .colab-df-convert {\n",
              "      background-color: #3B4455;\n",
              "      fill: #D2E3FC;\n",
              "    }\n",
              "\n",
              "    [theme=dark] .colab-df-convert:hover {\n",
              "      background-color: #434B5C;\n",
              "      box-shadow: 0px 1px 3px 1px rgba(0, 0, 0, 0.15);\n",
              "      filter: drop-shadow(0px 1px 2px rgba(0, 0, 0, 0.3));\n",
              "      fill: #FFFFFF;\n",
              "    }\n",
              "  </style>\n",
              "\n",
              "      <script>\n",
              "        const buttonEl =\n",
              "          document.querySelector('#df-107fb2ab-5f56-4070-8985-c989de9e7ca7 button.colab-df-convert');\n",
              "        buttonEl.style.display =\n",
              "          google.colab.kernel.accessAllowed ? 'block' : 'none';\n",
              "\n",
              "        async function convertToInteractive(key) {\n",
              "          const element = document.querySelector('#df-107fb2ab-5f56-4070-8985-c989de9e7ca7');\n",
              "          const dataTable =\n",
              "            await google.colab.kernel.invokeFunction('convertToInteractive',\n",
              "                                                     [key], {});\n",
              "          if (!dataTable) return;\n",
              "\n",
              "          const docLinkHtml = 'Like what you see? Visit the ' +\n",
              "            '<a target=\"_blank\" href=https://colab.research.google.com/notebooks/data_table.ipynb>data table notebook</a>'\n",
              "            + ' to learn more about interactive tables.';\n",
              "          element.innerHTML = '';\n",
              "          dataTable['output_type'] = 'display_data';\n",
              "          await google.colab.output.renderOutput(dataTable, element);\n",
              "          const docLink = document.createElement('div');\n",
              "          docLink.innerHTML = docLinkHtml;\n",
              "          element.appendChild(docLink);\n",
              "        }\n",
              "      </script>\n",
              "    </div>\n",
              "  </div>\n",
              "  "
            ]
          },
          "metadata": {},
          "execution_count": 5
        }
      ]
    },
    {
      "cell_type": "code",
      "execution_count": null,
      "metadata": {
        "id": "Ln6y8rmh7129"
      },
      "outputs": [],
      "source": [
        "global error_df, perf_df, X, pred_mat, act_mat, rmse_df\n",
        "df = read_data()\n",
        "date_init = '2017-02-05'\n",
        "df = df.loc[df[\"Date\"] > date_init]\n",
        "df = df.reset_index(drop=True)\n",
        "dates = df[\"Date\"]\n",
        "miy = 12.0\n",
        "mts = [1.0, 3.0, 6.0, 12.0, 24.0, 36.0, 60.0, 84.0, 120.0, 240.0, 360.0]\n",
        "X = [t/miy for t in mts]\n",
        "X = np.array(X)\n",
        "X = np.reshape(X, (X.shape[0], 1))\n",
        "N = df.shape[0]\n",
        "pred_rows = N - 2"
      ]
    },
    {
      "cell_type": "code",
      "execution_count": null,
      "metadata": {
        "id": "lTcYD4Yx712_"
      },
      "outputs": [],
      "source": [
        "error_mat = np.ones((pred_rows, 11), dtype=np.float64)\n",
        "pred_mat = np.ones((pred_rows, 11), dtype=np.float64)\n",
        "act_mat = np.ones((pred_rows, 11), dtype=np.float64)\n",
        "rmse_mat = np.ones((1, 11), dtype=np.float64)\n",
        "date_list = list()"
      ]
    },
    {
      "cell_type": "code",
      "execution_count": null,
      "metadata": {
        "id": "Rdo1dxEd713A",
        "outputId": "c08fe8e6-1851-4ce4-eec5-70be031566cd",
        "colab": {
          "base_uri": "https://localhost:8080/"
        }
      },
      "outputs": [
        {
          "output_type": "stream",
          "name": "stderr",
          "text": [
            "2022-05-27 23:23:12,047 - DGPM Logger - INFO - Dataset has 10 rows\n"
          ]
        }
      ],
      "source": [
        "logger.info(\"Dataset has \" + str(N) + \" rows\")\n",
        "row_index = 0\n",
        "mf = Mapping(1, 1)\n",
        "date_list = list()"
      ]
    },
    {
      "cell_type": "code",
      "execution_count": null,
      "metadata": {
        "id": "DKj78mHK713B",
        "outputId": "163d3b77-a8bd-4ce2-9441-7facbdfd376a",
        "colab": {
          "base_uri": "https://localhost:8080/"
        }
      },
      "outputs": [
        {
          "output_type": "stream",
          "name": "stderr",
          "text": [
            "2022-05-27 23:23:13,604 - DGPM Logger - DEBUG - Day 0 processed...\n",
            "reconstraining parameters GP_regression\n",
            "reconstraining parameters gp\n"
          ]
        }
      ],
      "source": [
        "while row_index < (N-2):  # (N-2) is because we don't need to process last record\n",
        "    dfr = df.loc[row_index, :]\n",
        "    req_cols = filter(lambda v: v not in [\"Date\", \"key\"], df.columns)\n",
        "    Y = dfr[req_cols]\n",
        "    Y = np.reshape(Y.values, (Y.shape[0], 1))\n",
        "    \n",
        "    # log progress - update progress every 100 days\n",
        "    if row_index % 100 == 0:\n",
        "        logger.debug(\"Day %d processed...\" % row_index)\n",
        "    \n",
        "    if row_index == 0:\n",
        "        k = RBF(input_dim=1)\n",
        "        m = GPy.models.GPRegression(X, Y, kernel=k)\n",
        "\n",
        "    else:\n",
        "        # The following block corresponds to the update\n",
        "        # of Kalman filter\n",
        "        req_cols = filter(lambda v: v not in [\"Date\", \"key\"], df.columns)\n",
        "        act = df.loc[row_index, req_cols]\n",
        "        act = np.reshape(act.values, (act.shape[0], 1))\n",
        "        # post_pred is the prediction for the previous day\n",
        "        residual = act - post_pred\n",
        "        # updated estimate\n",
        "        X_star = X\n",
        "        t1 = m.kern.K(X_star, X)\n",
        "        t2 = np.linalg.inv(m.kern.K(X, X) + m['Gaussian_noise.variance'] * np.eye(X.shape[0]))\n",
        "        t3 = t1.dot(t2)\n",
        "        t4 = t3.dot(residual)\n",
        "        um = post_pred + t4\n",
        "        um = um.astype('float64')\n",
        "\n",
        "        def the_mf(X):\n",
        "            return um\n",
        "        mf.f = the_mf\n",
        "        mf.update_gradients = lambda a, b: None\n",
        "        k = RBF(input_dim=1)\n",
        "\n",
        "        lik = GPy.likelihoods.Gaussian()\n",
        "        m = GPy.core.GP(X, Y, kernel=k, likelihood=lik, mean_function=mf)\n",
        "\n",
        "    m.constrain_positive('*.*')\n",
        "    m.optimize()\n",
        "    \n",
        "    post_pred = m.predict(X)[0]\n",
        "    row_index = row_index + 1\n",
        "    date_list.append(dates[row_index])\n",
        "    # prediction for the next day, the index in pred mat lags one behind\n",
        "    # the index for dates\n",
        "    estimates = post_pred.ravel()\n",
        "    pred_mat[(row_index - 1), :] = post_pred.ravel()\n",
        "    req_cols = filter(lambda v: v not in [\"Date\", \"key\"], df.columns)\n",
        "    act = df.loc[row_index, req_cols]\n",
        "    error_mat[(row_index - 1), :] = (act - estimates)*(act - estimates)\n",
        "    #ipdb.set_trace()\n",
        "    #m.plot()"
      ]
    },
    {
      "cell_type": "code",
      "execution_count": null,
      "metadata": {
        "id": "d9BPv-QC713C"
      },
      "outputs": [],
      "source": [
        "error_df = pd.DataFrame(error_mat)\n",
        "req_cols = filter(lambda v: v not in [\"Date\", \"key\"], df.columns)\n",
        "error_df.columns = req_cols\n",
        "\n",
        "perf_df = pd.DataFrame()\n",
        "perf_df[\"Term\"] = X.ravel()\n",
        "me = error_df.apply(np.mean, axis=0)\n",
        "perf_df[\"Mean.Error\"] = list(me)\n",
        "sd = error_df.apply(np.std, axis=0)\n",
        "perf_df[\"SD\"] = list(sd)"
      ]
    },
    {
      "cell_type": "code",
      "execution_count": null,
      "metadata": {
        "id": "ruvJkC9h713D"
      },
      "outputs": [],
      "source": [
        "# compute the rmse for each term\n",
        "N_preds = N - 2\n",
        "for c in range(error_df.shape[1]):\n",
        "    se = error_df.iloc[:, c]\n",
        "    rmse_mat[0, c] = sqrt(np.sum(se)/N_preds)\n",
        "\n",
        "rmse_df = pd.DataFrame(rmse_mat)\n",
        "req_cols = filter(lambda v: v not in [\"Date\", \"key\"], df.columns)\n",
        "rmse_df.columns = req_cols"
      ]
    },
    {
      "cell_type": "code",
      "source": [
        "os.chdir('/content/drive/MyDrive/DGP_YCF_py/output')\n",
        "fp = \"GP_Results.csv\"\n",
        "perf_df.to_csv(fp, index=False, header=True)\n",
        "fp = \"rmse_results_DGP\" + \".csv\"\n",
        "rmse_df.to_csv(fp, index=False, header=True)\n",
        "error_df[\"Date\"] = np.array(date_list)\n",
        "fp = \"10Y_GP_sq_term_errors.csv\"\n",
        "error_df.to_csv(fp, index=False, header=True)"
      ],
      "metadata": {
        "id": "a8vM1EKiwZzN"
      },
      "execution_count": null,
      "outputs": []
    },
    {
      "cell_type": "code",
      "source": [
        "with open(\"day_1_sample.csv\", 'a') as d1sample:\n",
        "    writer = csv.writer(d1sample)\n",
        "    line_to_write = pred_mat[0, :].tolist()\n",
        "    line_to_write.append(\"GP\")\n",
        "    writer.writerow(line_to_write)"
      ],
      "metadata": {
        "id": "-psZn3qvy9w1"
      },
      "execution_count": null,
      "outputs": []
    },
    {
      "cell_type": "code",
      "execution_count": null,
      "metadata": {
        "id": "W-a0IjPw713D"
      },
      "outputs": [],
      "source": [
        "with open(\"day_500_sample.csv\", 'a') as d500sample:\n",
        "    writer = csv.writer(d500sample)\n",
        "    line_to_write = pred_mat[500, :].tolist()\n",
        "    line_to_write.append(\"GP\")\n",
        "    writer.writerow(line_to_write)"
      ]
    },
    {
      "cell_type": "code",
      "execution_count": null,
      "metadata": {
        "id": "3d_VMnyg713E"
      },
      "outputs": [],
      "source": [
        " with open(\"day_1000_sample.csv\", 'a') as d1000sample:\n",
        "    writer = csv.writer(d1000sample)\n",
        "    line_to_write = pred_mat[1000, :].tolist()\n",
        "    line_to_write.append(\"GP\")\n",
        "    writer.writerow(line_to_write)"
      ]
    },
    {
      "cell_type": "code",
      "execution_count": null,
      "metadata": {
        "id": "GH6sl8ua713E"
      },
      "outputs": [],
      "source": [
        "  with open(\"day_1500_sample.csv\", 'a') as d1500sample:\n",
        "    writer = csv.writer(d1500sample)\n",
        "    line_to_write = pred_mat[1500, :].tolist()\n",
        "    line_to_write.append(\"GP\")\n",
        "    writer.writerow(line_to_write)"
      ]
    },
    {
      "cell_type": "code",
      "execution_count": null,
      "metadata": {
        "id": "qNBF6J5p713E"
      },
      "outputs": [],
      "source": [
        "with open(\"day_2000_sample.csv\", 'a') as d2000sample:\n",
        "    writer = csv.writer(d2000sample)\n",
        "    line_to_write = pred_mat[2000, :].tolist()\n",
        "    line_to_write.append(\"GP\")\n",
        "    writer.writerow(line_to_write)"
      ]
    },
    {
      "cell_type": "code",
      "execution_count": null,
      "metadata": {
        "id": "FNk59NsW713F"
      },
      "outputs": [],
      "source": [
        "logger.info(\"Done!\")"
      ]
    },
    {
      "cell_type": "code",
      "execution_count": null,
      "metadata": {
        "id": "jfAQa3j8713F"
      },
      "outputs": [],
      "source": [
        ""
      ]
    },
    {
      "cell_type": "code",
      "execution_count": null,
      "metadata": {
        "id": "XNXE44qx7127"
      },
      "outputs": [],
      "source": [
        "df = read_data()\n",
        "k = 100\n",
        "miy = 12.0\n",
        "mts = [1.0, 3.0, 6.0, 12.0, 24.0, 36.0, 60.0, 84.0, 120.0, 240.0, 360.0]\n",
        "X = [t/miy for t in mts]\n",
        "X = np.array(X)\n",
        "X = np.reshape(X, (X.shape[0], 1))\n",
        "req_cols = filter(lambda v: v not in [\"Date\", \"key\"], df.columns)\n",
        "Y = df.loc[k, req_cols]\n",
        "Y = np.reshape(Y.values, (Y.shape[0], 1))\n",
        "k = RBF(input_dim=1)\n",
        "m = GPy.models.GPRegression(X, Y, k)\n",
        "m.optimize()\n",
        "m.plot()"
      ]
    }
  ],
  "metadata": {
    "kernelspec": {
      "display_name": "Python 3",
      "language": "python",
      "name": "python3"
    },
    "language_info": {
      "codemirror_mode": {
        "name": "ipython",
        "version": 3
      },
      "file_extension": ".py",
      "mimetype": "text/x-python",
      "name": "python",
      "nbconvert_exporter": "python",
      "pygments_lexer": "ipython3",
      "version": "3.8.5"
    },
    "colab": {
      "name": "dgp_ycm.ipynb",
      "provenance": [],
      "collapsed_sections": []
    }
  },
  "nbformat": 4,
  "nbformat_minor": 0
}